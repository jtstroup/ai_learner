{
  "nbformat": 4,
  "nbformat_minor": 0,
  "metadata": {
    "colab": {
      "provenance": [],
      "authorship_tag": "ABX9TyOpNFw2QBce1E26RH3aXY7Q",
      "include_colab_link": true
    },
    "kernelspec": {
      "name": "python3",
      "display_name": "Python 3"
    },
    "language_info": {
      "name": "python"
    }
  },
  "cells": [
    {
      "cell_type": "markdown",
      "metadata": {
        "id": "view-in-github",
        "colab_type": "text"
      },
      "source": [
        "<a href=\"https://colab.research.google.com/github/jtstroup/ai_learner/blob/main/Data_Acquistion.ipynb\" target=\"_parent\"><img src=\"https://colab.research.google.com/assets/colab-badge.svg\" alt=\"Open In Colab\"/></a>"
      ]
    },
    {
      "cell_type": "code",
      "execution_count": 2,
      "metadata": {
        "id": "yyIy6hhCO0r3"
      },
      "outputs": [],
      "source": [
        "from sklearn.datasets import fetch_20newsgroups\n",
        "import pandas as pd\n",
        "\n",
        "# Load the data\n",
        "posts = fetch_20newsgroups(subset = 'all', categories = ['sci.electronics', 'sci.space'])"
      ]
    },
    {
      "cell_type": "code",
      "source": [
        "# See the available keys in the dataset\n",
        "print(posts.keys())"
      ],
      "metadata": {
        "colab": {
          "base_uri": "https://localhost:8080/"
        },
        "id": "m9MIH8EpPD8l",
        "outputId": "a312d9a9-d42e-44d8-eacc-c097f0554af9"
      },
      "execution_count": 3,
      "outputs": [
        {
          "output_type": "stream",
          "name": "stdout",
          "text": [
            "dict_keys(['data', 'filenames', 'target_names', 'target', 'DESCR'])\n"
          ]
        }
      ]
    },
    {
      "cell_type": "code",
      "source": [
        "# Display one post\n",
        "print(posts.data[1])"
      ],
      "metadata": {
        "colab": {
          "base_uri": "https://localhost:8080/"
        },
        "id": "GwfpDramPQBI",
        "outputId": "54175807-9a47-40eb-c339-7a7984c64a85"
      },
      "execution_count": 4,
      "outputs": [
        {
          "output_type": "stream",
          "name": "stdout",
          "text": [
            "From: gerald.belton@ozonehole.com (Gerald Belton) \n",
            "Subject: Need to find out numb\n",
            "Distribution: world\n",
            "Organization: Ozone Online Operations, Inc. - New Orleans, LA\n",
            "Reply-To: gerald.belton@ozonehole.com (Gerald Belton) \n",
            "Lines: 24\n",
            "\n",
            "AL>>        Question:   Is there a certain device out there that I can\n",
            "AL>>                    use to find out the number to the line?\n",
            "AL>>        Thanks for any response.\n",
            "AL>>                                                    Al\n",
            "\n",
            "AL>There is a number you can call which will return a synthesized\n",
            "AL>voice telling you the number of the line.  Unfortunately, for the\n",
            "AL>life of me I can't remember what it is. The telephone technicians\n",
            "AL>use it all the time.  We used to play around with this in our\n",
            "AL>dorm rooms since there were multiple phone lines running between\n",
            "AL>rooms.\n",
            "\n",
            "It probably wouldn't help for you to post the number, since it appears\n",
            "to be different in each area.  For what it's worth, in the New Orleans\n",
            "area the number is 998-877-6655 (easy to remember, what?)\n",
            "\n",
            "\n",
            " * SLMR 2.1 * Ask me anything: if I don't know, I'll make up something.\n",
            "                                          \n",
            "----\n",
            "The Ozone Hole BBS * A Private Bulletin Board Service * (504)891-3142\n",
            "3 Full Service Nodes * USRobotics 16.8K bps * 10 Gigs * 100,000 Files\n",
            "SKYDIVE New Orleans! * RIME Network Mail HUB * 500+ Usenet Newsgroups\n",
            "Please route all questions or inquiries to:  postmaster@ozonehole.com\n",
            "\n"
          ]
        }
      ]
    }
  ]
}