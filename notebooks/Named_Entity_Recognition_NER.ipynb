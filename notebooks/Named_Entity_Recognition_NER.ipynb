{
 "cells": [
  {
   "cell_type": "code",
   "execution_count": 2,
   "metadata": {},
   "outputs": [
    {
     "name": "stdout",
     "output_type": "stream",
     "text": [
      "Requirement already satisfied: transformers in c:\\users\\joshu\\.conda\\envs\\pytorch\\lib\\site-packages (4.42.4)\n",
      "Requirement already satisfied: packaging>=20.0 in c:\\users\\joshu\\.conda\\envs\\pytorch\\lib\\site-packages (from transformers) (21.3)\n",
      "Requirement already satisfied: safetensors>=0.4.1 in c:\\users\\joshu\\.conda\\envs\\pytorch\\lib\\site-packages (from transformers) (0.4.3)\n",
      "Requirement already satisfied: numpy<2.0,>=1.17 in c:\\users\\joshu\\.conda\\envs\\pytorch\\lib\\site-packages (from transformers) (1.21.5)\n",
      "Requirement already satisfied: tokenizers<0.20,>=0.19 in c:\\users\\joshu\\.conda\\envs\\pytorch\\lib\\site-packages (from transformers) (0.19.1)\n",
      "Requirement already satisfied: filelock in c:\\users\\joshu\\.conda\\envs\\pytorch\\lib\\site-packages (from transformers) (3.15.4)\n",
      "Requirement already satisfied: regex!=2019.12.17 in c:\\users\\joshu\\.conda\\envs\\pytorch\\lib\\site-packages (from transformers) (2024.5.15)\n",
      "Requirement already satisfied: pyyaml>=5.1 in c:\\users\\joshu\\.conda\\envs\\pytorch\\lib\\site-packages (from transformers) (6.0.1)\n",
      "Requirement already satisfied: requests in c:\\users\\joshu\\.conda\\envs\\pytorch\\lib\\site-packages (from transformers) (2.27.1)\n",
      "Requirement already satisfied: tqdm>=4.27 in c:\\users\\joshu\\.conda\\envs\\pytorch\\lib\\site-packages (from transformers) (4.64.0)\n",
      "Requirement already satisfied: huggingface-hub<1.0,>=0.23.2 in c:\\users\\joshu\\.conda\\envs\\pytorch\\lib\\site-packages (from transformers) (0.23.4)\n",
      "Requirement already satisfied: fsspec>=2023.5.0 in c:\\users\\joshu\\.conda\\envs\\pytorch\\lib\\site-packages (from huggingface-hub<1.0,>=0.23.2->transformers) (2024.6.1)\n",
      "Requirement already satisfied: typing-extensions>=3.7.4.3 in c:\\users\\joshu\\.conda\\envs\\pytorch\\lib\\site-packages (from huggingface-hub<1.0,>=0.23.2->transformers) (4.1.1)\n",
      "Requirement already satisfied: pyparsing!=3.0.5,>=2.0.2 in c:\\users\\joshu\\.conda\\envs\\pytorch\\lib\\site-packages (from packaging>=20.0->transformers) (3.0.4)\n",
      "Requirement already satisfied: colorama in c:\\users\\joshu\\.conda\\envs\\pytorch\\lib\\site-packages (from tqdm>=4.27->transformers) (0.4.4)\n",
      "Requirement already satisfied: charset-normalizer~=2.0.0 in c:\\users\\joshu\\.conda\\envs\\pytorch\\lib\\site-packages (from requests->transformers) (2.0.4)\n",
      "Requirement already satisfied: certifi>=2017.4.17 in c:\\users\\joshu\\.conda\\envs\\pytorch\\lib\\site-packages (from requests->transformers) (2024.7.4)\n",
      "Requirement already satisfied: urllib3<1.27,>=1.21.1 in c:\\users\\joshu\\.conda\\envs\\pytorch\\lib\\site-packages (from requests->transformers) (1.26.9)\n",
      "Requirement already satisfied: idna<4,>=2.5 in c:\\users\\joshu\\.conda\\envs\\pytorch\\lib\\site-packages (from requests->transformers) (3.3)\n"
     ]
    }
   ],
   "source": [
    "!pip install transformers"
   ]
  },
  {
   "cell_type": "code",
   "execution_count": 27,
   "metadata": {},
   "outputs": [
    {
     "name": "stdout",
     "output_type": "stream",
     "text": [
      "Content written to datastore\\yt_test.txt\n"
     ]
    }
   ],
   "source": [
    "import os\n",
    "import requests\n",
    "\n",
    "# Define the URL and directory\n",
    "url = 'https://raw.githubusercontent.com/leondz/emerging_entities_17/master/source/yt_test'\n",
    "directory = 'datastore'\n",
    "filename = 'yt_test.txt'\n",
    "file_path = os.path.join(directory, filename)\n",
    "\n",
    "# Ensure the directory exists\n",
    "if not os.path.exists(directory):\n",
    "    os.makedirs(directory)\n",
    "\n",
    "# Download the content from the URL\n",
    "response = requests.get(url)\n",
    "\n",
    "# Write the content to the file in the 'datastore' directory\n",
    "with open(file_path, 'wb') as file:\n",
    "    file.write(response.content)\n",
    "\n",
    "print(f\"Content written to {file_path}\")"
   ]
  },
  {
   "cell_type": "code",
   "execution_count": 7,
   "metadata": {},
   "outputs": [
    {
     "name": "stderr",
     "output_type": "stream",
     "text": [
      "No model was supplied, defaulted to dbmdz/bert-large-cased-finetuned-conll03-english and revision f2482bf (https://huggingface.co/dbmdz/bert-large-cased-finetuned-conll03-english).\n",
      "Using a pipeline without specifying a model name and revision in production is not recommended.\n",
      "Some weights of the model checkpoint at dbmdz/bert-large-cased-finetuned-conll03-english were not used when initializing BertForTokenClassification: ['bert.pooler.dense.bias', 'bert.pooler.dense.weight']\n",
      "- This IS expected if you are initializing BertForTokenClassification from the checkpoint of a model trained on another task or with another architecture (e.g. initializing a BertForSequenceClassification model from a BertForPreTraining model).\n",
      "- This IS NOT expected if you are initializing BertForTokenClassification from the checkpoint of a model that you expect to be exactly identical (initializing a BertForSequenceClassification model from a BertForSequenceClassification model).\n"
     ]
    }
   ],
   "source": [
    "ner = pipeline('ner', aggregation_strategy='simple')"
   ]
  }
 ],
 "metadata": {
  "kernelspec": {
   "display_name": "pytorch",
   "language": "python",
   "name": "python3"
  },
  "language_info": {
   "codemirror_mode": {
    "name": "ipython",
    "version": 3
   },
   "file_extension": ".py",
   "mimetype": "text/x-python",
   "name": "python",
   "nbconvert_exporter": "python",
   "pygments_lexer": "ipython3",
   "version": "3.10.4"
  }
 },
 "nbformat": 4,
 "nbformat_minor": 2
}
