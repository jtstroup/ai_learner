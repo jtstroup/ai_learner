{
 "cells": [
  {
   "cell_type": "code",
   "execution_count": 18,
   "metadata": {},
   "outputs": [
    {
     "name": "stderr",
     "output_type": "stream",
     "text": [
      "'wget' is not recognized as an internal or external command,\n",
      "operable program or batch file.\n"
     ]
    }
   ],
   "source": [
    "!wget -nc https://raw.githubusercontent.com/ryanmcdermott/trump-speeches/master/speeches.txt"
   ]
  },
  {
   "cell_type": "code",
   "execution_count": 19,
   "metadata": {},
   "outputs": [
    {
     "name": "stdout",
     "output_type": "stream",
     "text": [
      "Requirement already satisfied: transformers in c:\\users\\joshu\\.conda\\envs\\pytorch\\lib\\site-packages (4.42.4)\n",
      "Requirement already satisfied: requests in c:\\users\\joshu\\.conda\\envs\\pytorch\\lib\\site-packages (from transformers) (2.27.1)\n",
      "Requirement already satisfied: tqdm>=4.27 in c:\\users\\joshu\\.conda\\envs\\pytorch\\lib\\site-packages (from transformers) (4.64.0)\n",
      "Requirement already satisfied: tokenizers<0.20,>=0.19 in c:\\users\\joshu\\.conda\\envs\\pytorch\\lib\\site-packages (from transformers) (0.19.1)\n",
      "Requirement already satisfied: pyyaml>=5.1 in c:\\users\\joshu\\.conda\\envs\\pytorch\\lib\\site-packages (from transformers) (6.0.1)\n",
      "Requirement already satisfied: huggingface-hub<1.0,>=0.23.2 in c:\\users\\joshu\\.conda\\envs\\pytorch\\lib\\site-packages (from transformers) (0.23.4)\n",
      "Requirement already satisfied: numpy<2.0,>=1.17 in c:\\users\\joshu\\.conda\\envs\\pytorch\\lib\\site-packages (from transformers) (1.21.5)\n",
      "Requirement already satisfied: regex!=2019.12.17 in c:\\users\\joshu\\.conda\\envs\\pytorch\\lib\\site-packages (from transformers) (2024.5.15)\n",
      "Requirement already satisfied: filelock in c:\\users\\joshu\\.conda\\envs\\pytorch\\lib\\site-packages (from transformers) (3.15.4)\n",
      "Requirement already satisfied: packaging>=20.0 in c:\\users\\joshu\\.conda\\envs\\pytorch\\lib\\site-packages (from transformers) (21.3)\n",
      "Requirement already satisfied: safetensors>=0.4.1 in c:\\users\\joshu\\.conda\\envs\\pytorch\\lib\\site-packages (from transformers) (0.4.3)\n",
      "Requirement already satisfied: fsspec>=2023.5.0 in c:\\users\\joshu\\.conda\\envs\\pytorch\\lib\\site-packages (from huggingface-hub<1.0,>=0.23.2->transformers) (2024.6.1)\n",
      "Requirement already satisfied: typing-extensions>=3.7.4.3 in c:\\users\\joshu\\.conda\\envs\\pytorch\\lib\\site-packages (from huggingface-hub<1.0,>=0.23.2->transformers) (4.1.1)\n",
      "Requirement already satisfied: pyparsing!=3.0.5,>=2.0.2 in c:\\users\\joshu\\.conda\\envs\\pytorch\\lib\\site-packages (from packaging>=20.0->transformers) (3.0.4)\n",
      "Requirement already satisfied: colorama in c:\\users\\joshu\\.conda\\envs\\pytorch\\lib\\site-packages (from tqdm>=4.27->transformers) (0.4.4)\n",
      "Requirement already satisfied: charset-normalizer~=2.0.0 in c:\\users\\joshu\\.conda\\envs\\pytorch\\lib\\site-packages (from requests->transformers) (2.0.4)\n",
      "Requirement already satisfied: certifi>=2017.4.17 in c:\\users\\joshu\\.conda\\envs\\pytorch\\lib\\site-packages (from requests->transformers) (2024.7.4)\n",
      "Requirement already satisfied: idna<4,>=2.5 in c:\\users\\joshu\\.conda\\envs\\pytorch\\lib\\site-packages (from requests->transformers) (3.3)\n",
      "Requirement already satisfied: urllib3<1.27,>=1.21.1 in c:\\users\\joshu\\.conda\\envs\\pytorch\\lib\\site-packages (from requests->transformers) (1.26.9)\n"
     ]
    }
   ],
   "source": [
    "!pip install transformers"
   ]
  },
  {
   "cell_type": "code",
   "execution_count": 20,
   "metadata": {},
   "outputs": [
    {
     "name": "stdout",
     "output_type": "stream",
     "text": [
      "Content written to datastore\\speeches.txt\n"
     ]
    }
   ],
   "source": [
    "import os\n",
    "import requests\n",
    "\n",
    "# Define the URL and directory\n",
    "url = 'https://raw.githubusercontent.com/ryanmcdermott/trump-speeches/master/speeches.txt'\n",
    "directory = 'datastore'\n",
    "filename = 'speeches.txt'\n",
    "file_path = os.path.join(directory, filename)\n",
    "\n",
    "# Ensure the directory exists\n",
    "if not os.path.exists(directory):\n",
    "    os.makedirs(directory)\n",
    "\n",
    "# Download the content from the URL\n",
    "response = requests.get(url)\n",
    "\n",
    "# Write the content to the file in the 'datastore' directory\n",
    "with open(file_path, 'wb') as file:\n",
    "    file.write(response.content)\n",
    "\n",
    "print(f\"Content written to {file_path}\")"
   ]
  },
  {
   "cell_type": "code",
   "execution_count": 21,
   "metadata": {},
   "outputs": [],
   "source": [
    "from transformers import pipeline, set_seed\n",
    "\n",
    "import textwrap\n",
    "import numpy as np\n",
    "import matplotlib.pyplot as plt\n",
    "\n",
    "from pprint import pprint"
   ]
  },
  {
   "cell_type": "code",
   "execution_count": 22,
   "metadata": {},
   "outputs": [],
   "source": [
    "# Read the input file\n",
    "with open('datastore/speeches.txt', 'r') as file:\n",
    "    lines = file.readlines()\n",
    "\n",
    "# Filter out empty lines and lines containing only whitespace\n",
    "cleaned_lines = [line for line in lines if line.strip()]\n",
    "\n",
    "# Write the cleaned lines to the output file\n",
    "with open('datastore/speeches_cleaned.txt', 'w') as file:\n",
    "    file.writelines(cleaned_lines)"
   ]
  },
  {
   "cell_type": "code",
   "execution_count": 23,
   "metadata": {},
   "outputs": [],
   "source": [
    "lines = [line.rstrip() for line in open('datastore/speeches_cleaned.txt')]\n",
    "lines = [line for line in lines if len(line) > 0]"
   ]
  },
  {
   "cell_type": "code",
   "execution_count": 26,
   "metadata": {},
   "outputs": [],
   "source": [
    "gen = pipeline(\"text-generation\", model=\"gpt2\")"
   ]
  },
  {
   "cell_type": "code",
   "execution_count": null,
   "metadata": {},
   "outputs": [],
   "source": [
    "set_seed(1234)"
   ]
  },
  {
   "cell_type": "code",
   "execution_count": 45,
   "metadata": {},
   "outputs": [
    {
     "data": {
      "text/plain": [
       "\"...Thank you so much.  That's so nice.  Isn't he a great guy.  He doesn't get a fair press; he doesn't get it.  It's just not fair.  And I have to tell you I'm here, and very strongly here, because I have great respect for Steve King and have great respect likewise for Citizens United, David and everybody, and tremendous resect for the Tea Party.  Also, also the people of Iowa.  They have something in common.  Hard-working people.  They want to work, they want to make the country great.  I love the people of Iowa.  So that's the way it is.  Very simple.\""
      ]
     },
     "execution_count": 45,
     "metadata": {},
     "output_type": "execute_result"
    }
   ],
   "source": [
    "lines[1]"
   ]
  },
  {
   "cell_type": "code",
   "execution_count": 46,
   "metadata": {},
   "outputs": [
    {
     "name": "stderr",
     "output_type": "stream",
     "text": [
      "Setting `pad_token_id` to `eos_token_id`:50256 for open-end generation.\n"
     ]
    },
    {
     "data": {
      "text/plain": [
       "[{'generated_text': \"...Thank you so much.  That's so nice.  Isn't he a great guy.  He doesn't get a fair press; he doesn't get it.  It's just not fair.  And I have to tell you I'm here, and very strongly here, because I have great respect for Steve King and have great respect likewise for Citizens United, David and everybody, and tremendous resect for the Tea Party.  Also, also the people of Iowa.  They have something in common.  Hard-working people.  They want to work, they want to make the country great.  I love the people of Iowa.  So that's the way it is.  Very simple. All right on. So\"},\n",
       " {'generated_text': \"...Thank you so much.  That's so nice.  Isn't he a great guy.  He doesn't get a fair press; he doesn't get it.  It's just not fair.  And I have to tell you I'm here, and very strongly here, because I have great respect for Steve King and have great respect likewise for Citizens United, David and everybody, and tremendous resect for the Tea Party.  Also, also the people of Iowa.  They have something in common.  Hard-working people.  They want to work, they want to make the country great.  I love the people of Iowa.  So that's the way it is.  Very simple.  Very simple. \"},\n",
       " {'generated_text': \"...Thank you so much.  That's so nice.  Isn't he a great guy.  He doesn't get a fair press; he doesn't get it.  It's just not fair.  And I have to tell you I'm here, and very strongly here, because I have great respect for Steve King and have great respect likewise for Citizens United, David and everybody, and tremendous resect for the Tea Party.  Also, also the people of Iowa.  They have something in common.  Hard-working people.  They want to work, they want to make the country great.  I love the people of Iowa.  So that's the way it is.  Very simple.  Those are all nice\"},\n",
       " {'generated_text': \"...Thank you so much.  That's so nice.  Isn't he a great guy.  He doesn't get a fair press; he doesn't get it.  It's just not fair.  And I have to tell you I'm here, and very strongly here, because I have great respect for Steve King and have great respect likewise for Citizens United, David and everybody, and tremendous resect for the Tea Party.  Also, also the people of Iowa.  They have something in common.  Hard-working people.  They want to work, they want to make the country great.  I love the people of Iowa.  So that's the way it is.  Very simple.  This is a good\"},\n",
       " {'generated_text': \"...Thank you so much.  That's so nice.  Isn't he a great guy.  He doesn't get a fair press; he doesn't get it.  It's just not fair.  And I have to tell you I'm here, and very strongly here, because I have great respect for Steve King and have great respect likewise for Citizens United, David and everybody, and tremendous resect for the Tea Party.  Also, also the people of Iowa.  They have something in common.  Hard-working people.  They want to work, they want to make the country great.  I love the people of Iowa.  So that's the way it is.  Very simple. So that's the way\"}]"
      ]
     },
     "execution_count": 46,
     "metadata": {},
     "output_type": "execute_result"
    }
   ],
   "source": [
    "gen(lines[1], max_length=150, num_return_sequences=3)"
   ]
  },
  {
   "cell_type": "code",
   "execution_count": 47,
   "metadata": {},
   "outputs": [
    {
     "name": "stdout",
     "output_type": "stream",
     "text": [
      "[{'generated_text': \"...Thank you so much.  That's so nice.  Isn't he a great \"\n",
      "                    \"guy.  He doesn't get a fair press; he doesn't get it.  \"\n",
      "                    \"It's just not fair.  And I have to tell you I'm here, and \"\n",
      "                    'very strongly here, because I have great respect for '\n",
      "                    'Steve King and have great respect likewise for Citizens '\n",
      "                    'United, David and everybody, and tremendous resect for '\n",
      "                    'the Tea Party.  Also, also the people of Iowa.  They have '\n",
      "                    'something in common.  Hard-working people.  They want to '\n",
      "                    'work, they want to make the country great.  I love the '\n",
      "                    \"people of Iowa.  So that's the way it is.  Very simple. \"\n",
      "                    'All right on. So'},\n",
      " {'generated_text': \"...Thank you so much.  That's so nice.  Isn't he a great \"\n",
      "                    \"guy.  He doesn't get a fair press; he doesn't get it.  \"\n",
      "                    \"It's just not fair.  And I have to tell you I'm here, and \"\n",
      "                    'very strongly here, because I have great respect for '\n",
      "                    'Steve King and have great respect likewise for Citizens '\n",
      "                    'United, David and everybody, and tremendous resect for '\n",
      "                    'the Tea Party.  Also, also the people of Iowa.  They have '\n",
      "                    'something in common.  Hard-working people.  They want to '\n",
      "                    'work, they want to make the country great.  I love the '\n",
      "                    \"people of Iowa.  So that's the way it is.  Very simple.  \"\n",
      "                    'Very simple. '},\n",
      " {'generated_text': \"...Thank you so much.  That's so nice.  Isn't he a great \"\n",
      "                    \"guy.  He doesn't get a fair press; he doesn't get it.  \"\n",
      "                    \"It's just not fair.  And I have to tell you I'm here, and \"\n",
      "                    'very strongly here, because I have great respect for '\n",
      "                    'Steve King and have great respect likewise for Citizens '\n",
      "                    'United, David and everybody, and tremendous resect for '\n",
      "                    'the Tea Party.  Also, also the people of Iowa.  They have '\n",
      "                    'something in common.  Hard-working people.  They want to '\n",
      "                    'work, they want to make the country great.  I love the '\n",
      "                    \"people of Iowa.  So that's the way it is.  Very simple.  \"\n",
      "                    'Those are all nice'},\n",
      " {'generated_text': \"...Thank you so much.  That's so nice.  Isn't he a great \"\n",
      "                    \"guy.  He doesn't get a fair press; he doesn't get it.  \"\n",
      "                    \"It's just not fair.  And I have to tell you I'm here, and \"\n",
      "                    'very strongly here, because I have great respect for '\n",
      "                    'Steve King and have great respect likewise for Citizens '\n",
      "                    'United, David and everybody, and tremendous resect for '\n",
      "                    'the Tea Party.  Also, also the people of Iowa.  They have '\n",
      "                    'something in common.  Hard-working people.  They want to '\n",
      "                    'work, they want to make the country great.  I love the '\n",
      "                    \"people of Iowa.  So that's the way it is.  Very simple.  \"\n",
      "                    'This is a good'},\n",
      " {'generated_text': \"...Thank you so much.  That's so nice.  Isn't he a great \"\n",
      "                    \"guy.  He doesn't get a fair press; he doesn't get it.  \"\n",
      "                    \"It's just not fair.  And I have to tell you I'm here, and \"\n",
      "                    'very strongly here, because I have great respect for '\n",
      "                    'Steve King and have great respect likewise for Citizens '\n",
      "                    'United, David and everybody, and tremendous resect for '\n",
      "                    'the Tea Party.  Also, also the people of Iowa.  They have '\n",
      "                    'something in common.  Hard-working people.  They want to '\n",
      "                    'work, they want to make the country great.  I love the '\n",
      "                    \"people of Iowa.  So that's the way it is.  Very simple. \"\n",
      "                    \"So that's the way\"}]\n"
     ]
    }
   ],
   "source": [
    "pprint(_)"
   ]
  },
  {
   "cell_type": "code",
   "execution_count": 49,
   "metadata": {},
   "outputs": [],
   "source": [
    "def wrap(x):\n",
    "    return textwrap.fill(x, replace_whitespace=False, fix_sentence_endings=True)"
   ]
  },
  {
   "cell_type": "code",
   "execution_count": 50,
   "metadata": {},
   "outputs": [
    {
     "name": "stderr",
     "output_type": "stream",
     "text": [
      "Setting `pad_token_id` to `eos_token_id`:50256 for open-end generation.\n"
     ]
    },
    {
     "name": "stdout",
     "output_type": "stream",
     "text": [
      "...Thank you so much.  That's so nice.  Isn't he a great guy.  He\n",
      "doesn't get a fair press; he doesn't get it.  It's just not fair.  And\n",
      "I have to tell you I'm here, and very strongly here, because I have\n",
      "great respect for Steve King and have great respect likewise for\n",
      "Citizens United, David and everybody, and tremendous resect for the\n",
      "Tea Party.  Also, also the people of Iowa.  They have something in\n",
      "common.  Hard-working people.  They want to work, they want to make\n",
      "the country great.  I love the people of Iowa.  So that's the way it\n",
      "is.  Very simple.  And we have all\n",
      "...Thank you so much.  That's so nice.  Isn't he a great guy.  He\n",
      "doesn't get a fair press; he doesn't get it.  It's just not fair.  And\n",
      "I have to tell you I'm here, and very strongly here, because I have\n",
      "great respect for Steve King and have great respect likewise for\n",
      "Citizens United, David and everybody, and tremendous resect for the\n",
      "Tea Party.  Also, also the people of Iowa.  They have something in\n",
      "common.  Hard-working people.  They want to work, they want to make\n",
      "the country great.  I love the people of Iowa.  So that's the way it\n",
      "is.  Very simple.   \n",
      " I spoke\n",
      "...Thank you so much.  That's so nice.  Isn't he a great guy.  He\n",
      "doesn't get a fair press; he doesn't get it.  It's just not fair.  And\n",
      "I have to tell you I'm here, and very strongly here, because I have\n",
      "great respect for Steve King and have great respect likewise for\n",
      "Citizens United, David and everybody, and tremendous resect for the\n",
      "Tea Party.  Also, also the people of Iowa.  They have something in\n",
      "common.  Hard-working people.  They want to work, they want to make\n",
      "the country great.  I love the people of Iowa.  So that's the way it\n",
      "is.  Very simple.  The reason why I'm\n",
      "...Thank you so much.  That's so nice.  Isn't he a great guy.  He\n",
      "doesn't get a fair press; he doesn't get it.  It's just not fair.  And\n",
      "I have to tell you I'm here, and very strongly here, because I have\n",
      "great respect for Steve King and have great respect likewise for\n",
      "Citizens United, David and everybody, and tremendous resect for the\n",
      "Tea Party.  Also, also the people of Iowa.  They have something in\n",
      "common.  Hard-working people.  They want to work, they want to make\n",
      "the country great.  I love the people of Iowa.  So that's the way it\n",
      "is.  Very simple.  And we'll talk\n",
      "...Thank you so much.  That's so nice.  Isn't he a great guy.  He\n",
      "doesn't get a fair press; he doesn't get it.  It's just not fair.  And\n",
      "I have to tell you I'm here, and very strongly here, because I have\n",
      "great respect for Steve King and have great respect likewise for\n",
      "Citizens United, David and everybody, and tremendous resect for the\n",
      "Tea Party.  Also, also the people of Iowa.  They have something in\n",
      "common.  Hard-working people.  They want to work, they want to make\n",
      "the country great.  I love the people of Iowa.  So that's the way it\n",
      "is.  Very simple.  \" \"You're going\n"
     ]
    }
   ],
   "source": [
    "out = gen(lines[1], max_length=150, num_return_sequences=3)\n",
    "print(\"\\n\".join(wrap(x['generated_text']) for x in out))"
   ]
  },
  {
   "cell_type": "code",
   "execution_count": 56,
   "metadata": {},
   "outputs": [
    {
     "name": "stderr",
     "output_type": "stream",
     "text": [
      "Setting `pad_token_id` to `eos_token_id`:50256 for open-end generation.\n"
     ]
    },
    {
     "name": "stdout",
     "output_type": "stream",
     "text": [
      "Thank you so much.  That's so nice.  Isn't he a great guy.  He doesn't\n",
      "get a fair press; he doesn't get it.\n",
      "With that said, our country is\n",
      "really headed in the wrong direction with a president who is doing an\n",
      "absolutely terrible job.  The world is collapsing around us, and many\n",
      "of the problems we've caused.  Our president is either grossly\n",
      "incompetent, a word that more and more people are using, and I think I\n",
      "was the first to use it, or he has a completely different agenda than\n",
      "you want to know about, which could be possible.  In any event,\n",
      "Washington is broken, and our country is in serious trouble and total\n",
      "disarray.  Very simple.  Politicians are all talk, no action.  They\n",
      "are all talk and no action.  And it's constant; it never ends.\n",
      "A great\n",
      "way that I think we've done more to help end our deficit and end our\n",
      "deficit in the final years of this new Republican Administration.  Not\n",
      "just by having people raise taxes and lower spending, but by ending\n",
      "the so-called \"gold standard\" of our economy so that we'll be able to\n",
      "be a successful power partner in the world.\n"
     ]
    }
   ],
   "source": [
    "prev = \"Thank you so much.  That's so nice.  Isn't he a great guy.  He doesn't get a fair press; he doesn't get it.\"\n",
    "out = gen(prev + \"\\n\" + lines[2], max_length=250)\n",
    "print(wrap(out[0]['generated_text']))"
   ]
  },
  {
   "cell_type": "code",
   "execution_count": 57,
   "metadata": {},
   "outputs": [
    {
     "name": "stderr",
     "output_type": "stream",
     "text": [
      "Setting `pad_token_id` to `eos_token_id`:50256 for open-end generation.\n"
     ]
    },
    {
     "name": "stdout",
     "output_type": "stream",
     "text": [
      "Thank you so much.  That's so nice.  Isn't he a great guy.  He doesn't\n",
      "get a fair press; he doesn't get it.\n",
      "You look at Obamacare.  A total\n",
      "catastrophe and by the way it really kicks in in '16 and it is going\n",
      "to be a disaster.  People are closing up shops.  Doctors are quitting\n",
      "the business.  I have a friend of mine who's a doctor, a very good\n",
      "doctor, a very successful guy.  He said, I have more accountants than\n",
      "I have patients.  And he needs because it is so complicated and so\n",
      "terrible and he's never had that before and he's going to close up his\n",
      "business.  And he was very successful guy.  But it's happening more\n",
      "and more.  And more and more.  All these things are getting solved and\n",
      "I'd like to be part of the solution.  And I want to get it done.  But\n",
      "so many years ago, you wouldn't have known what this bill was trying\n",
      "to do.  And you wouldn't have believed what sort of legislation it was\n",
      "fighting.  It was trying to be something very complex and I'm glad I\n",
      "don't see a great deal of the\n"
     ]
    }
   ],
   "source": [
    "prev = \"Thank you so much.  That's so nice.  Isn't he a great guy.  He doesn't get a fair press; he doesn't get it.\"\n",
    "out = gen(prev + \"\\n\" + lines[4], max_length=250)\n",
    "print(wrap(out[0]['generated_text']))"
   ]
  },
  {
   "cell_type": "code",
   "execution_count": null,
   "metadata": {},
   "outputs": [],
   "source": [
    "# How can I apply GPT-2 to generate text based on a given prompt? and as a business analyst, how can I use this to generate text for a report?"
   ]
  },
  {
   "cell_type": "code",
   "execution_count": 59,
   "metadata": {},
   "outputs": [
    {
     "name": "stderr",
     "output_type": "stream",
     "text": [
      "Setting `pad_token_id` to `eos_token_id`:50256 for open-end generation.\n"
     ]
    },
    {
     "name": "stdout",
     "output_type": "stream",
     "text": [
      "Neural networks with attention have been used with great success in\n",
      "natural language processing tasks such as machine translation, text\n",
      "summarization, and question answering.  They have also been applied to\n",
      "image captioning and speech recognition.  In this notebook, we will\n",
      "explore how to use the GPT-2 model for text generation.  First, let\n",
      "K1, H1, B, and L be an ensemble of words with high level (and low\n",
      "level) complexity.  We will use K1 and H1 as the inputs to the model\n",
      "and a vector corresponding to a given image.  We will also use K1 with\n",
      "low-level similarity function, F1, and L for both input and output.\n",
      "Finally, we will use K1, H1, B, and L to represent images in the\n",
      "context of images with the following constraints:\n",
      "\n",
      "A model will only\n",
      "output a series of N sentences at the point on the vector, with the\n",
      "same length length in both directions.  All text on a line at the C1\n",
      "endpoints will have the same height and width in both directions.\n",
      "\n",
      "The\n",
      "text will be a string at least M, with the corresponding letter to the\n",
      "letters.\n",
      "\n",
      "A line will have a N-dimensional length, between 0 and\n"
     ]
    }
   ],
   "source": [
    "prompt = \"Neural networks with attention have been used with great success in natural language processing tasks such as machine translation, text summarization, and question answering. They have also been applied to image captioning and speech recognition. In this notebook, we will explore how to use the GPT-2 model for text generation.\"\n",
    "out = gen(prompt, max_length=250)\n",
    "print(wrap(out[0]['generated_text']))"
   ]
  }
 ],
 "metadata": {
  "kernelspec": {
   "display_name": "pytorch",
   "language": "python",
   "name": "python3"
  },
  "language_info": {
   "codemirror_mode": {
    "name": "ipython",
    "version": 3
   },
   "file_extension": ".py",
   "mimetype": "text/x-python",
   "name": "python",
   "nbconvert_exporter": "python",
   "pygments_lexer": "ipython3",
   "version": "3.10.4"
  }
 },
 "nbformat": 4,
 "nbformat_minor": 2
}
