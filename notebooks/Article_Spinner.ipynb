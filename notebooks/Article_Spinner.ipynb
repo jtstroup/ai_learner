{
 "cells": [
  {
   "cell_type": "code",
   "execution_count": 1,
   "metadata": {},
   "outputs": [
    {
     "name": "stdout",
     "output_type": "stream",
     "text": [
      "Requirement already satisfied: transformers in c:\\users\\joshu\\.conda\\envs\\pytorch\\lib\\site-packages (4.42.4)\n",
      "Requirement already satisfied: packaging>=20.0 in c:\\users\\joshu\\.conda\\envs\\pytorch\\lib\\site-packages (from transformers) (21.3)\n",
      "Requirement already satisfied: requests in c:\\users\\joshu\\.conda\\envs\\pytorch\\lib\\site-packages (from transformers) (2.27.1)\n",
      "Requirement already satisfied: numpy<2.0,>=1.17 in c:\\users\\joshu\\.conda\\envs\\pytorch\\lib\\site-packages (from transformers) (1.21.5)\n",
      "Requirement already satisfied: tqdm>=4.27 in c:\\users\\joshu\\.conda\\envs\\pytorch\\lib\\site-packages (from transformers) (4.64.0)\n",
      "Requirement already satisfied: filelock in c:\\users\\joshu\\.conda\\envs\\pytorch\\lib\\site-packages (from transformers) (3.15.4)\n",
      "Requirement already satisfied: tokenizers<0.20,>=0.19 in c:\\users\\joshu\\.conda\\envs\\pytorch\\lib\\site-packages (from transformers) (0.19.1)\n",
      "Requirement already satisfied: safetensors>=0.4.1 in c:\\users\\joshu\\.conda\\envs\\pytorch\\lib\\site-packages (from transformers) (0.4.3)\n",
      "Requirement already satisfied: pyyaml>=5.1 in c:\\users\\joshu\\.conda\\envs\\pytorch\\lib\\site-packages (from transformers) (6.0.1)\n",
      "Requirement already satisfied: huggingface-hub<1.0,>=0.23.2 in c:\\users\\joshu\\.conda\\envs\\pytorch\\lib\\site-packages (from transformers) (0.23.4)\n",
      "Requirement already satisfied: regex!=2019.12.17 in c:\\users\\joshu\\.conda\\envs\\pytorch\\lib\\site-packages (from transformers) (2024.5.15)\n",
      "Requirement already satisfied: fsspec>=2023.5.0 in c:\\users\\joshu\\.conda\\envs\\pytorch\\lib\\site-packages (from huggingface-hub<1.0,>=0.23.2->transformers) (2024.6.1)\n",
      "Requirement already satisfied: typing-extensions>=3.7.4.3 in c:\\users\\joshu\\.conda\\envs\\pytorch\\lib\\site-packages (from huggingface-hub<1.0,>=0.23.2->transformers) (4.1.1)\n",
      "Requirement already satisfied: pyparsing!=3.0.5,>=2.0.2 in c:\\users\\joshu\\.conda\\envs\\pytorch\\lib\\site-packages (from packaging>=20.0->transformers) (3.0.4)\n",
      "Requirement already satisfied: colorama in c:\\users\\joshu\\.conda\\envs\\pytorch\\lib\\site-packages (from tqdm>=4.27->transformers) (0.4.4)\n",
      "Requirement already satisfied: urllib3<1.27,>=1.21.1 in c:\\users\\joshu\\.conda\\envs\\pytorch\\lib\\site-packages (from requests->transformers) (1.26.9)\n",
      "Requirement already satisfied: certifi>=2017.4.17 in c:\\users\\joshu\\.conda\\envs\\pytorch\\lib\\site-packages (from requests->transformers) (2024.7.4)\n",
      "Requirement already satisfied: charset-normalizer~=2.0.0 in c:\\users\\joshu\\.conda\\envs\\pytorch\\lib\\site-packages (from requests->transformers) (2.0.4)\n",
      "Requirement already satisfied: idna<4,>=2.5 in c:\\users\\joshu\\.conda\\envs\\pytorch\\lib\\site-packages (from requests->transformers) (3.3)\n"
     ]
    }
   ],
   "source": [
    "!pip install transformers"
   ]
  },
  {
   "cell_type": "code",
   "execution_count": 3,
   "metadata": {},
   "outputs": [],
   "source": [
    "import numpy as np\n",
    "import pandas as pd\n",
    "import textwrap\n",
    "from pprint import pprint\n",
    "\n",
    "from transformers import pipeline\n"
   ]
  },
  {
   "cell_type": "code",
   "execution_count": 5,
   "metadata": {},
   "outputs": [
    {
     "data": {
      "text/html": [
       "<div>\n",
       "<style scoped>\n",
       "    .dataframe tbody tr th:only-of-type {\n",
       "        vertical-align: middle;\n",
       "    }\n",
       "\n",
       "    .dataframe tbody tr th {\n",
       "        vertical-align: top;\n",
       "    }\n",
       "\n",
       "    .dataframe thead th {\n",
       "        text-align: right;\n",
       "    }\n",
       "</style>\n",
       "<table border=\"1\" class=\"dataframe\">\n",
       "  <thead>\n",
       "    <tr style=\"text-align: right;\">\n",
       "      <th></th>\n",
       "      <th>category</th>\n",
       "      <th>text</th>\n",
       "    </tr>\n",
       "  </thead>\n",
       "  <tbody>\n",
       "    <tr>\n",
       "      <th>0</th>\n",
       "      <td>tech</td>\n",
       "      <td>tv future in the hands of viewers with home th...</td>\n",
       "    </tr>\n",
       "    <tr>\n",
       "      <th>1</th>\n",
       "      <td>business</td>\n",
       "      <td>worldcom boss  left books alone  former worldc...</td>\n",
       "    </tr>\n",
       "    <tr>\n",
       "      <th>2</th>\n",
       "      <td>sport</td>\n",
       "      <td>tigers wary of farrell  gamble  leicester say ...</td>\n",
       "    </tr>\n",
       "    <tr>\n",
       "      <th>3</th>\n",
       "      <td>sport</td>\n",
       "      <td>yeading face newcastle in fa cup premiership s...</td>\n",
       "    </tr>\n",
       "    <tr>\n",
       "      <th>4</th>\n",
       "      <td>entertainment</td>\n",
       "      <td>ocean s twelve raids box office ocean s twelve...</td>\n",
       "    </tr>\n",
       "  </tbody>\n",
       "</table>\n",
       "</div>"
      ],
      "text/plain": [
       "        category                                               text\n",
       "0           tech  tv future in the hands of viewers with home th...\n",
       "1       business  worldcom boss  left books alone  former worldc...\n",
       "2          sport  tigers wary of farrell  gamble  leicester say ...\n",
       "3          sport  yeading face newcastle in fa cup premiership s...\n",
       "4  entertainment  ocean s twelve raids box office ocean s twelve..."
      ]
     },
     "execution_count": 5,
     "metadata": {},
     "output_type": "execute_result"
    }
   ],
   "source": [
    "df = pd.read_csv('https://raw.githubusercontent.com/mdsohaib/BBC-News-Classification/master/bbc-text.csv')\n",
    "df.head()"
   ]
  },
  {
   "cell_type": "code",
   "execution_count": 7,
   "metadata": {},
   "outputs": [
    {
     "data": {
      "text/plain": [
       "{'business', 'entertainment', 'politics', 'sport', 'tech'}"
      ]
     },
     "execution_count": 7,
     "metadata": {},
     "output_type": "execute_result"
    }
   ],
   "source": [
    "labels = set(df.category)\n",
    "labels"
   ]
  },
  {
   "cell_type": "code",
   "execution_count": 8,
   "metadata": {},
   "outputs": [],
   "source": [
    "#pick label\n",
    "label = 'business'"
   ]
  },
  {
   "cell_type": "code",
   "execution_count": 10,
   "metadata": {},
   "outputs": [
    {
     "data": {
      "text/plain": [
       "1     worldcom boss  left books alone  former worldc...\n",
       "11    virgin blue shares plummet 20% shares in austr...\n",
       "12    crude oil prices back above $50 cold weather a...\n",
       "15    s korean credit card firm rescued south korea ...\n",
       "18    japanese banking battle at an end japan s sumi...\n",
       "Name: text, dtype: object"
      ]
     },
     "execution_count": 10,
     "metadata": {},
     "output_type": "execute_result"
    }
   ],
   "source": [
    "texts = df[df.category == label].text\n",
    "texts.head()"
   ]
  },
  {
   "cell_type": "code",
   "execution_count": 11,
   "metadata": {},
   "outputs": [],
   "source": [
    "np.random.seed(1234)"
   ]
  },
  {
   "cell_type": "code",
   "execution_count": 12,
   "metadata": {},
   "outputs": [],
   "source": [
    "i = np.random.choice(texts.shape[0])\n",
    "doc = texts.iloc[i]"
   ]
  },
  {
   "cell_type": "code",
   "execution_count": 13,
   "metadata": {},
   "outputs": [
    {
     "name": "stdout",
     "output_type": "stream",
     "text": [
      "honda wins china copyright ruling japan s honda has won a copyright\n",
      "case in beijing  further evidence that china is taking a tougher line\n",
      "on protecting intellectual property rights.  a court ruled that\n",
      "chongqing lifan industry group must stop selling honda brand\n",
      "motorbikes and said it must pay 1.47m yuan ($177 600) in compensation.\n",
      "internationally recognized regulation is now a key part of china s\n",
      "plans for developing its economy  analysts said.  beijing also has\n",
      "been threatened with sanctions if it fails to clamp down.  chinese\n",
      "firms copy products ranging from computer software and spark plugs to\n",
      "baby milk and compact discs.  despite the fact that product piracy is\n",
      "a major problem  foreign companies have only occasionally won cases\n",
      "and the compensation awarded has usually been small.  still  recent\n",
      "rulings and announcements will have boosted optimism that attitudes\n",
      "are changing.  earlier this week china said that in future it will\n",
      "punish violators of intellectual property rights with up to seven\n",
      "years in jail.  and on tuesday  paws incorporated - the owner of the\n",
      "rights to garfield the cat - won a court battle against a publishing\n",
      "house that violated its copyright.  other firms that have taken legal\n",
      "action in china  with varying degrees of success  include yamaha\n",
      "general motors and toyota.  the problem of piracy is not limited to\n",
      "china  however  and the potential for profit is huge.  the european\n",
      "union estimates that the global trade in pirated wares is worth more\n",
      "than 200bn euros a year (£140bn; $258bn)  or about 5% of total world\n",
      "trade.  and it is growing.  between 1998 and 2002  the number of\n",
      "counterfeit or pirated goods intercepted at the eu s external borders\n",
      "increased by more than 800%  it said.  last month the eu said it will\n",
      "start monitoring china  ukraine and russia to ensure they are going\n",
      "after pirated goods.  other countries on the eu s hit list include\n",
      "thailand  brazil  south korea and indonesia.  any countries that are\n",
      "not making enough of an effort could be dragged to the world trade\n",
      "organisation (wto)  a step that could trigger economic sanctions  the\n",
      "eu warned.\n"
     ]
    }
   ],
   "source": [
    "print(textwrap.fill(doc, replace_whitespace=False, fix_sentence_endings=True))"
   ]
  },
  {
   "cell_type": "code",
   "execution_count": 14,
   "metadata": {},
   "outputs": [
    {
     "name": "stderr",
     "output_type": "stream",
     "text": [
      "No model was supplied, defaulted to distilbert/distilroberta-base and revision ec58a5b (https://huggingface.co/distilbert/distilroberta-base).\n",
      "Using a pipeline without specifying a model name and revision in production is not recommended.\n",
      "Some weights of the model checkpoint at distilbert/distilroberta-base were not used when initializing RobertaForMaskedLM: ['roberta.pooler.dense.bias', 'roberta.pooler.dense.weight']\n",
      "- This IS expected if you are initializing RobertaForMaskedLM from the checkpoint of a model trained on another task or with another architecture (e.g. initializing a BertForSequenceClassification model from a BertForPreTraining model).\n",
      "- This IS NOT expected if you are initializing RobertaForMaskedLM from the checkpoint of a model that you expect to be exactly identical (initializing a BertForSequenceClassification model from a BertForSequenceClassification model).\n"
     ]
    }
   ],
   "source": [
    "#Article to Spin\n",
    "mlm = pipeline('fill-mask')"
   ]
  },
  {
   "cell_type": "code",
   "execution_count": 17,
   "metadata": {},
   "outputs": [
    {
     "data": {
      "text/plain": [
       "[[{'score': 0.3042018413543701,\n",
       "   'token': 10043,\n",
       "   'token_str': ' landmark',\n",
       "   'sequence': '<s>ruling japan s honda has won a landmark case in<mask></s>'},\n",
       "  {'score': 0.2294362187385559,\n",
       "   'token': 21869,\n",
       "   'token_str': ' defamation',\n",
       "   'sequence': '<s>ruling japan s honda has won a defamation case in<mask></s>'},\n",
       "  {'score': 0.04333832114934921,\n",
       "   'token': 461,\n",
       "   'token_str': ' court',\n",
       "   'sequence': '<s>ruling japan s honda has won a court case in<mask></s>'},\n",
       "  {'score': 0.042080678045749664,\n",
       "   'token': 16176,\n",
       "   'token_str': ' contempt',\n",
       "   'sequence': '<s>ruling japan s honda has won a contempt case in<mask></s>'},\n",
       "  {'score': 0.02761748433113098,\n",
       "   'token': 1122,\n",
       "   'token_str': ' similar',\n",
       "   'sequence': '<s>ruling japan s honda has won a similar case in<mask></s>'}],\n",
       " [{'score': 0.06945856660604477,\n",
       "   'token': 461,\n",
       "   'token_str': ' court',\n",
       "   'sequence': '<s>ruling japan s honda has won a<mask> case in court</s>'},\n",
       "  {'score': 0.04880606755614281,\n",
       "   'token': 3534,\n",
       "   'token_str': ' Delhi',\n",
       "   'sequence': '<s>ruling japan s honda has won a<mask> case in Delhi</s>'},\n",
       "  {'score': 0.029484691098332405,\n",
       "   'token': 666,\n",
       "   'token_str': ' India',\n",
       "   'sequence': '<s>ruling japan s honda has won a<mask> case in India</s>'},\n",
       "  {'score': 0.028729969635605812,\n",
       "   'token': 5697,\n",
       "   'token_str': ' Malaysia',\n",
       "   'sequence': '<s>ruling japan s honda has won a<mask> case in Malaysia</s>'},\n",
       "  {'score': 0.026214001700282097,\n",
       "   'token': 2920,\n",
       "   'token_str': ' Singapore',\n",
       "   'sequence': '<s>ruling japan s honda has won a<mask> case in Singapore</s>'}]]"
      ]
     },
     "execution_count": 17,
     "metadata": {},
     "output_type": "execute_result"
    }
   ],
   "source": [
    "mlm('ruling japan s honda has won a <mask> case in <mask>')"
   ]
  },
  {
   "cell_type": "code",
   "execution_count": 19,
   "metadata": {},
   "outputs": [
    {
     "data": {
      "text/plain": [
       "[[{'score': 0.07406417280435562,\n",
       "   'token': 8011,\n",
       "   'token_str': ' Honda',\n",
       "   'sequence': '<s>ruling Honda honda has won a copyright case in<mask></s>'},\n",
       "  {'score': 0.018183020874857903,\n",
       "   'token': 909,\n",
       "   'token_str': ' black',\n",
       "   'sequence': '<s>ruling black honda has won a copyright case in<mask></s>'},\n",
       "  {'score': 0.012562992051243782,\n",
       "   'token': 3390,\n",
       "   'token_str': ' actress',\n",
       "   'sequence': '<s>ruling actress honda has won a copyright case in<mask></s>'},\n",
       "  {'score': 0.010082629509270191,\n",
       "   'token': 9767,\n",
       "   'token_str': ' Nissan',\n",
       "   'sequence': '<s>ruling Nissan honda has won a copyright case in<mask></s>'},\n",
       "  {'score': 0.010068264789879322,\n",
       "   'token': 10685,\n",
       "   'token_str': ' Volkswagen',\n",
       "   'sequence': '<s>ruling Volkswagen honda has won a copyright case in<mask></s>'}],\n",
       " [{'score': 0.06773198395967484,\n",
       "   'token': 1429,\n",
       "   'token_str': ' Japan',\n",
       "   'sequence': '<s>ruling<mask> honda has won a copyright case in Japan</s>'},\n",
       "  {'score': 0.05340002849698067,\n",
       "   'token': 1221,\n",
       "   'token_str': ' Australia',\n",
       "   'sequence': '<s>ruling<mask> honda has won a copyright case in Australia</s>'},\n",
       "  {'score': 0.05333289876580238,\n",
       "   'token': 886,\n",
       "   'token_str': ' California',\n",
       "   'sequence': '<s>ruling<mask> honda has won a copyright case in California</s>'},\n",
       "  {'score': 0.03920172527432442,\n",
       "   'token': 2910,\n",
       "   'token_str': ' Brazil',\n",
       "   'sequence': '<s>ruling<mask> honda has won a copyright case in Brazil</s>'},\n",
       "  {'score': 0.024714503437280655,\n",
       "   'token': 6171,\n",
       "   'token_str': ' Sweden',\n",
       "   'sequence': '<s>ruling<mask> honda has won a copyright case in Sweden</s>'}]]"
      ]
     },
     "execution_count": 19,
     "metadata": {},
     "output_type": "execute_result"
    }
   ],
   "source": [
    "text = 'ruling <mask> honda has won a copyright case in <mask>'\n",
    "mlm(text)"
   ]
  },
  {
   "cell_type": "code",
   "execution_count": 22,
   "metadata": {},
   "outputs": [
    {
     "name": "stdout",
     "output_type": "stream",
     "text": [
      "[{'score': 0.26963815093040466,\n",
      "  'sequence': 'despite the fact that product piracy is a major problem foreign '\n",
      "              'companies have only occasionally won cases and the compensation '\n",
      "              'awarded has usually been small.  still  recent rulings and '\n",
      "              'announcements will have boosted optimism that attitudes are '\n",
      "              'changing.',\n",
      "  'token': 936,\n",
      "  'token_str': ' problem'},\n",
      " {'score': 0.25730082392692566,\n",
      "  'sequence': 'despite the fact that product piracy is a major concern foreign '\n",
      "              'companies have only occasionally won cases and the compensation '\n",
      "              'awarded has usually been small.  still  recent rulings and '\n",
      "              'announcements will have boosted optimism that attitudes are '\n",
      "              'changing.',\n",
      "  'token': 2212,\n",
      "  'token_str': ' concern'},\n",
      " {'score': 0.10916789621114731,\n",
      "  'sequence': 'despite the fact that product piracy is a major issue foreign '\n",
      "              'companies have only occasionally won cases and the compensation '\n",
      "              'awarded has usually been small.  still  recent rulings and '\n",
      "              'announcements will have boosted optimism that attitudes are '\n",
      "              'changing.',\n",
      "  'token': 696,\n",
      "  'token_str': ' issue'},\n",
      " {'score': 0.039139796048402786,\n",
      "  'sequence': 'despite the fact that product piracy is a major topic foreign '\n",
      "              'companies have only occasionally won cases and the compensation '\n",
      "              'awarded has usually been small.  still  recent rulings and '\n",
      "              'announcements will have boosted optimism that attitudes are '\n",
      "              'changing.',\n",
      "  'token': 5674,\n",
      "  'token_str': ' topic'},\n",
      " {'score': 0.025204122066497803,\n",
      "  'sequence': 'despite the fact that product piracy is a major crime foreign '\n",
      "              'companies have only occasionally won cases and the compensation '\n",
      "              'awarded has usually been small.  still  recent rulings and '\n",
      "              'announcements will have boosted optimism that attitudes are '\n",
      "              'changing.',\n",
      "  'token': 1846,\n",
      "  'token_str': ' crime'}]\n"
     ]
    }
   ],
   "source": [
    "text = \"despite the fact that product piracy is \" +\\\n",
    "\"a major <mask> foreign companies have only occasionally won cases \" +\\\n",
    "\"and the compensation awarded has usually been small.  still  recent \" +\\\n",
    "\"rulings and announcements will have boosted optimism that attitudes \" +\\\n",
    "\"are changing.\"\n",
    "\n",
    "pprint(mlm(text))"
   ]
  },
  {
   "cell_type": "code",
   "execution_count": 23,
   "metadata": {},
   "outputs": [
    {
     "name": "stdout",
     "output_type": "stream",
     "text": [
      "honda wins china copyright ruling japan s honda has won a copyright case in beijing  further evidence that china is taking a tougher line on protecting intellectual property rights.  a court ruled that chongqing lifan industry group must stop selling honda brand motorbikes and said it must pay 1.47m yuan ($177 600) in compensation. internationally recognized regulation is now a key part of china s plans for developing its economy  analysts said. beijing also has been threatened with sanctions if it fails to clamp down.  chinese firms copy products ranging <mask> computer software and spark plugs to baby milk and compact discs. despite the fact that product piracy is a major problem  foreign companies have only occasionally won cases and the compensation awarded has usually been small. still  recent rulings and announcements will have boosted optimism that attitudes are changing. earlier this week china said that in future it will punish violators of intellectual property rights with up to seven years in jail. and on tuesday  paws incorporated - the owner of the rights to garfield the cat - won a court battle against a publishing house that violated its copyright. other firms that have taken legal action in china  with varying degrees of success  include yamaha  general motors and toyota.  the problem of piracy is not limited to china  however  and the potential for profit is huge. the european union estimates that the global trade in pirated wares is worth more than 200bn euros a year (£140bn; $258bn)  or about 5% of total world trade. and it is growing. between 1998 and 2002  the number of counterfeit or pirated goods intercepted at the eu s external borders increased by more than 800%  it said. last month the eu said it will start monitoring china  ukraine and russia to ensure they are going after pirated goods. other countries on the eu s hit list include thailand  brazil  south korea and indonesia. any countries that are not making enough of an effort could be dragged to the world trade organisation (wto)  a step that could trigger economic sanctions  the eu warned.\n"
     ]
    }
   ],
   "source": [
    "#Exercise: Write a function that automatically masks and replaces words in a whole document. \n",
    "# you might choose which words to replace based on some statistic, e.g. TF-IDF.\n",
    "def mask_and_replace(doc, n=5):\n",
    "    words = doc.split()\n",
    "    masked_words = np.random.choice(words, n, replace=False)\n",
    "    for word in masked_words:\n",
    "        text = doc.replace(word, '<mask>')\n",
    "    return text\n",
    "\n",
    "print(mask_and_replace(doc))"
   ]
  }
 ],
 "metadata": {
  "kernelspec": {
   "display_name": "pytorch",
   "language": "python",
   "name": "python3"
  },
  "language_info": {
   "codemirror_mode": {
    "name": "ipython",
    "version": 3
   },
   "file_extension": ".py",
   "mimetype": "text/x-python",
   "name": "python",
   "nbconvert_exporter": "python",
   "pygments_lexer": "ipython3",
   "version": "3.10.4"
  }
 },
 "nbformat": 4,
 "nbformat_minor": 2
}
