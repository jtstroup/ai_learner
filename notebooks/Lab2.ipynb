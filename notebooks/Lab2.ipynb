{
  "nbformat": 4,
  "nbformat_minor": 0,
  "metadata": {
    "colab": {
      "provenance": [],
      "authorship_tag": "ABX9TyNFoS0kaAj6B9AmHmOZE0QD"
    },
    "kernelspec": {
      "name": "python3",
      "display_name": "Python 3"
    },
    "language_info": {
      "name": "python"
    }
  },
  "cells": [
    {
      "cell_type": "code",
      "execution_count": null,
      "metadata": {
        "id": "zsG0iFtektib"
      },
      "outputs": [],
      "source": [
        "import xml.etree.ElementTree as ET\n",
        "import pyodbc\n",
        "\n",
        "# Create an XML element tree object\n",
        "xml_element = ET.Element('root')\n",
        "xml_element.attrib['name'] = 'My XML Element'\n",
        "xml_element.text = 'This is some XML data.'\n",
        "\n",
        "# Serialize the XML element tree object to XML\n",
        "xml_data = ET.tostring(xml_element, encoding='utf-8')\n",
        "\n",
        "# Connect to the MSSQL database\n",
        "conn = pyodbc.connect('DRIVER={SQL Server};SERVER=localhost;DATABASE=my_database;UID=my_username;PWD=my_password')\n",
        "\n",
        "# Create a cursor object\n",
        "cursor = conn.cursor()\n",
        "\n",
        "# Create a SQL statement to insert the XML data into the database\n",
        "sql = \"\"\"\n",
        "INSERT INTO table_name (xml_column)\n",
        "VALUES (?)\n",
        "\"\"\"\n",
        "\n",
        "# Execute the SQL statement, passing in the XML data as a parameter\n",
        "cursor.execute(sql, xml_data)\n",
        "\n",
        "# Commit the changes\n",
        "conn.commit()\n",
        "\n",
        "# Close the connection\n",
        "conn.close()"
      ]
    }
  ]
}